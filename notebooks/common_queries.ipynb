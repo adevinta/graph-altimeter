{
 "cells": [
  {
   "cell_type": "markdown",
   "id": "cd2a9616",
   "metadata": {},
   "source": [
    "# Gremlin"
   ]
  },
  {
   "cell_type": "markdown",
   "id": "252917a1",
   "metadata": {},
   "source": [
    "Configure the gremlin-server endpoint"
   ]
  },
  {
   "cell_type": "code",
   "execution_count": null,
   "id": "0b51ab67",
   "metadata": {
    "scrolled": true
   },
   "outputs": [],
   "source": [
    "%%graph_notebook_config\n",
    "{\n",
    "  \"host\": \"gremlin-server\",\n",
    "  \"port\": 8182,\n",
    "  \"auth_mode\": \"DEFAULT\",\n",
    "  \"iam_credentials_provider_type\": \"ENV\",\n",
    "  \"load_from_s3_arn\": \"\",\n",
    "  \"ssl\": false,\n",
    "  \"aws_region\": \"\"\n",
    "}"
   ]
  },
  {
   "cell_type": "markdown",
   "id": "3e98dfec",
   "metadata": {},
   "source": [
    "Count the number of Vertices"
   ]
  },
  {
   "cell_type": "code",
   "execution_count": null,
   "id": "090a82b2",
   "metadata": {},
   "outputs": [],
   "source": [
    "%%gremlin\n",
    "g.V().count()"
   ]
  },
  {
   "cell_type": "markdown",
   "id": "7b06cc14",
   "metadata": {},
   "source": [
    "List some Vertices and their properties"
   ]
  },
  {
   "cell_type": "code",
   "execution_count": null,
   "id": "6e8b97e2",
   "metadata": {},
   "outputs": [],
   "source": [
    "%%gremlin\n",
    "g.V().limit(500).elementMap()"
   ]
  },
  {
   "cell_type": "markdown",
   "id": "6cca0f52",
   "metadata": {},
   "source": [
    "Drop all vertices"
   ]
  },
  {
   "cell_type": "code",
   "execution_count": null,
   "id": "0b1b7fda",
   "metadata": {},
   "outputs": [],
   "source": [
    "%%gremlin\n",
    "g.V().drop()"
   ]
  },
  {
   "cell_type": "markdown",
   "id": "e28ed657",
   "metadata": {},
   "source": [
    "# Python"
   ]
  },
  {
   "cell_type": "markdown",
   "id": "4740a425",
   "metadata": {},
   "source": [
    "Import required modules"
   ]
  },
  {
   "cell_type": "code",
   "execution_count": null,
   "id": "26d8ae49",
   "metadata": {},
   "outputs": [],
   "source": [
    "import uuid\n",
    "\n",
    "from gremlin_python.driver.driver_remote_connection import DriverRemoteConnection\n",
    "from gremlin_python.process.anonymous_traversal import traversal\n",
    "from gremlin_python.process.traversal import T, Cardinality"
   ]
  },
  {
   "cell_type": "markdown",
   "id": "c6c13956",
   "metadata": {},
   "source": [
    "Configure DB connection"
   ]
  },
  {
   "cell_type": "code",
   "execution_count": null,
   "id": "90271364",
   "metadata": {},
   "outputs": [],
   "source": [
    "conn = DriverRemoteConnection(f'ws://gremlin-server:8182/gremlin', 'g')\n",
    "g = traversal().withRemote(conn)"
   ]
  },
  {
   "cell_type": "markdown",
   "id": "6cee8c29",
   "metadata": {},
   "source": [
    "Add a vertex"
   ]
  },
  {
   "cell_type": "code",
   "execution_count": null,
   "id": "cee7c47f",
   "metadata": {},
   "outputs": [],
   "source": [
    "g.addV('v1') \\\n",
    "    .property(T.id, str(uuid.uuid4())) \\\n",
    "    .property(Cardinality.single, 'prop', 'val') \\\n",
    "    .next()"
   ]
  },
  {
   "cell_type": "markdown",
   "id": "d87a2fd3",
   "metadata": {},
   "source": [
    "List some Vertices and their properties"
   ]
  },
  {
   "cell_type": "code",
   "execution_count": null,
   "id": "407d09e0",
   "metadata": {},
   "outputs": [],
   "source": [
    "g.V().limit(500).elementMap().toList()"
   ]
  }
 ],
 "metadata": {
  "kernelspec": {
   "display_name": "Python 3",
   "language": "python",
   "name": "python3"
  },
  "language_info": {
   "codemirror_mode": {
    "name": "ipython",
    "version": 3
   },
   "file_extension": ".py",
   "mimetype": "text/x-python",
   "name": "python",
   "nbconvert_exporter": "python",
   "pygments_lexer": "ipython3",
   "version": "3.6.12"
  }
 },
 "nbformat": 4,
 "nbformat_minor": 5
}
